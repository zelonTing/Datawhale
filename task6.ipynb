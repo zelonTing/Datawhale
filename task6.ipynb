{
 "cells": [
  {
   "cell_type": "code",
   "execution_count": null,
   "metadata": {},
   "outputs": [],
   "source": [
    "import pandas as pd\n",
    "import numpy as np\n",
    "import matplotlib.pyplot as plt\n",
    "import warnings\n",
    "import time\n",
    "import seaborn as sns\n",
    "\n",
    "\n",
    "from sklearn.model_selection import KFold\n",
    "from sklearn.model_selection import train_test_split\n",
    "from sklearn.linear_model import LogisticRegression\n",
    "from sklearn.svm import SVC\n",
    "from sklearn.tree import DecisionTreeClassifier\n",
    "from sklearn.ensemble import RandomForestClassifier\n",
    "from xgboost.sklearn import XGBClassifier\n",
    "from sklearn.metrics import accuracy_score,precision_score,f1_score,\\\n",
    "            recall_score,precision_recall_curve,roc_auc_score,roc_curve\n",
    "from mlxtend.classifier import StackingClassifier"
   ]
  },
  {
   "cell_type": "code",
   "execution_count": null,
   "metadata": {},
   "outputs": [],
   "source": [
    "DATA_FILE = '../dataset/data2.csv' \n",
    "plt.style.use('ggplot')\n",
    "plt.rcParams['figure.figsize'] = 10,6\n",
    "warnings.filterwarnings('ignore')\n",
    "plt.rcParams['font.sans-serif']=['SimHei'] #用来正常显示中文标签\n",
    "plt.rcParams['axes.unicode_minus']=False #用来正常显示负号\n"
   ]
  },
  {
   "cell_type": "code",
   "execution_count": null,
   "metadata": {},
   "outputs": [],
   "source": [
    "def load_data():\n",
    "    df = pd.read_csv(DATA_FILE)\n",
    "    X = df.drop('status',axis=1)\n",
    "    y = df['status']\n",
    "    X_train,X_test,y_train,y_test = train_test_split(X,y,test_size=0.3,random_state=2018)\n",
    "    return X_train,X_test,y_train,y_test"
   ]
  },
  {
   "cell_type": "code",
   "execution_count": null,
   "metadata": {},
   "outputs": [],
   "source": [
    "def model_processing(X_train,X_test,y_train,y_test):\n",
    "    log_reg = LogisticRegression(C=0.01, penalty='l2')\n",
    "    svc = SVC(C=0.7, kernel='linear')\n",
    "    tree_clf = DecisionTreeClassifier(criterion='entropy', max_depth=3, min_samples_leaf=5)\n",
    "    rf_clf = RandomForestClassifier(n_estimators=70,criterion='entropy', max_features='auto',min_samples_leaf=6)\n",
    "    xgb = XGBClassifier(gamma=0.3, max_depth=4, min_child_weight=8,reg_alpha=0.05)\n",
    "    \n",
    "    sclf = StackingClassifier(classifiers=[log_reg,svc,tree_clf,rf_clf],meta_classifier=xgb)\n",
    "    sclf.fit(X_train,y_train)\n",
    "    y_pred_train = sclf.predict(X_train)\n",
    "    y_pred = sclf.predict(X_test)\n",
    "    \n",
    "    print('*' * 30,'在训练集上的得分' )\n",
    "    \n",
    "    accuracy = accuracy_score(y_train,y_pred_train)\n",
    "    precision = precision_score(y_train,y_pred_train)\n",
    "    f1 = f1_score(y_train,y_pred_train)\n",
    "    recall = recall_score(y_train,y_pred_train)\n",
    "    auc = roc_auc_score(y_train,y_pred_train)\n",
    "    model_name = '堆叠模型-训练集'\n",
    "     \n",
    "    print('{} 精确度 (accuracy):{:.2f}'.format(model_name,accuracy))\n",
    "    print('{} 准确度(precision):{:.2f}'.format(model_name,precision))\n",
    "    print('{} F1 Score :{:.2f}'.format(model_name,f1))\n",
    "    print('{} 召回率(recall Score):{:.2f}'.format(model_name,recall))\n",
    "    print('{} auc Score:{:.2f}'.format(model_name,auc))\n",
    "    \n",
    "    \n",
    "    print('*' * 30,'在测试集上的得分' )\n",
    "    \n",
    "    accuracy = accuracy_score(y_test,y_pred)\n",
    "    precision = precision_score(y_test,y_pred)\n",
    "    f1 = f1_score(y_test,y_pred)\n",
    "    recall = recall_score(y_test,y_pred)\n",
    "    auc = roc_auc_score(y_test,y_pred)\n",
    "    model_name = '堆叠模型'\n",
    "     \n",
    "    print('{} 精确度 (accuracy):{:.2f}'.format(model_name,accuracy))\n",
    "    print('{} 准确度(precision):{:.2f}'.format(model_name,precision))\n",
    "    print('{} F1 Score :{:.2f}'.format(model_name,f1))\n",
    "    print('{} 召回率(recall Score):{:.2f}'.format(model_name,recall))\n",
    "    print('{} auc Score:{:.2f}'.format(model_name,auc))  "
   ]
  },
  {
   "cell_type": "code",
   "execution_count": null,
   "metadata": {},
   "outputs": [],
   "source": [
    "\n",
    "# 1 加载数据源\n",
    "X_train,X_test,y_train,y_test = load_data()\n",
    "model_processing(X_train,X_test,y_train,y_test)"
   ]
  }
 ],
 "metadata": {
  "kernelspec": {
   "display_name": "Python 3",
   "language": "python",
   "name": "python3"
  },
  "language_info": {
   "codemirror_mode": {
    "name": "ipython",
    "version": 3
   },
   "file_extension": ".py",
   "mimetype": "text/x-python",
   "name": "python",
   "nbconvert_exporter": "python",
   "pygments_lexer": "ipython3",
   "version": "3.6.8"
  }
 },
 "nbformat": 4,
 "nbformat_minor": 2
}

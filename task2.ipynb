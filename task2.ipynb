{
 "cells": [
  {
   "cell_type": "code",
   "execution_count": 4,
   "metadata": {},
   "outputs": [],
   "source": [
    "import numpy as np\n",
    "import pandas as pd\n",
    "#import matplotlib.pyplot as plt\n",
    "from sklearn.tree import DecisionTreeClassifier\n"
   ]
  },
  {
   "cell_type": "code",
   "execution_count": 6,
   "metadata": {},
   "outputs": [],
   "source": [
    "data = pd.read_csv('/home/ting/datasets/DLCode/task2.csv')"
   ]
  },
  {
   "cell_type": "code",
   "execution_count": null,
   "metadata": {},
   "outputs": [],
   "source": [
    "# IV \n",
    "def iv(df,)"
   ]
  },
  {
   "cell_type": "code",
   "execution_count": 21,
   "metadata": {},
   "outputs": [],
   "source": [
    "cols = ['top_trans_count_last_1_month',\n",
    "       'rank_trad_1_month',\n",
    "       'first_transaction_time',\n",
    "       'trans_fail_top_count_enum_last_1_month',\n",
    "       'trans_fail_top_count_enum_last_6_month',\n",
    "       'trans_fail_top_count_enum_last_12_month',\n",
    "       'max_consume_count_later_6_month',\n",
    "       'railway_consume_count_last_12_month',\n",
    "       'trans_day_last_12_month',\n",
    "       'query_org_count',\n",
    "       'query_cash_count',\n",
    "       'loans_count',\n",
    "       'loans_overdue_count',\n",
    "       'loans_org_count_behavior',\n",
    "       'consfin_org_count_behavior',\n",
    "       'loans_cash_count',\n",
    "       'latest_three_month_loan',\n",
    "       'latest_six_month_loan',\n",
    "       'history_fail_fee',\n",
    "       'loans_org_count_current',\n",
    "       'loans_product_count',\n",
    "       'consfin_org_count_current',\n",
    "       'consfin_product_count',\n",
    "       'latest_query_day',\n",
    "       'loans_latest_day',\n",
    "       'status']\n",
    "train = data[cols]\n",
    "train = train.dropna()\n"
   ]
  },
  {
   "cell_type": "code",
   "execution_count": 28,
   "metadata": {},
   "outputs": [],
   "source": [
    "from sklearn.model_selection import train_test_split\n",
    "\n",
    "train_x = train.drop(['status'],axis = 1)\n",
    "train_y = train['status']\n",
    "Train_X,Test_X,Train_Y,Test_Y = train_test_split(train_x,train_y,test_size=0.3, random_state=0)"
   ]
  },
  {
   "cell_type": "code",
   "execution_count": 24,
   "metadata": {},
   "outputs": [
    {
     "name": "stdout",
     "output_type": "stream",
     "text": [
      "<class 'pandas.core.frame.DataFrame'>\n",
      "Int64Index: 4407 entries, 0 to 4753\n",
      "Data columns (total 25 columns):\n",
      "top_trans_count_last_1_month               4407 non-null float64\n",
      "rank_trad_1_month                          4407 non-null float64\n",
      "first_transaction_time                     4407 non-null float64\n",
      "trans_fail_top_count_enum_last_1_month     4407 non-null float64\n",
      "trans_fail_top_count_enum_last_6_month     4407 non-null float64\n",
      "trans_fail_top_count_enum_last_12_month    4407 non-null float64\n",
      "max_consume_count_later_6_month            4407 non-null float64\n",
      "railway_consume_count_last_12_month        4407 non-null float64\n",
      "trans_day_last_12_month                    4407 non-null float64\n",
      "query_org_count                            4407 non-null float64\n",
      "query_cash_count                           4407 non-null float64\n",
      "loans_count                                4407 non-null float64\n",
      "loans_overdue_count                        4407 non-null float64\n",
      "loans_org_count_behavior                   4407 non-null float64\n",
      "consfin_org_count_behavior                 4407 non-null float64\n",
      "loans_cash_count                           4407 non-null float64\n",
      "latest_three_month_loan                    4407 non-null float64\n",
      "latest_six_month_loan                      4407 non-null float64\n",
      "history_fail_fee                           4407 non-null float64\n",
      "loans_org_count_current                    4407 non-null float64\n",
      "loans_product_count                        4407 non-null float64\n",
      "consfin_org_count_current                  4407 non-null float64\n",
      "consfin_product_count                      4407 non-null float64\n",
      "latest_query_day                           4407 non-null float64\n",
      "loans_latest_day                           4407 non-null float64\n",
      "dtypes: float64(25)\n",
      "memory usage: 1.0 MB\n"
     ]
    }
   ],
   "source": [
    "train_x.info()"
   ]
  },
  {
   "cell_type": "code",
   "execution_count": 29,
   "metadata": {},
   "outputs": [],
   "source": [
    "tree = DecisionTreeClassifier().fit(Train_X,Train_Y)"
   ]
  },
  {
   "cell_type": "code",
   "execution_count": 26,
   "metadata": {},
   "outputs": [
    {
     "data": {
      "text/html": [
       "<div>\n",
       "<style scoped>\n",
       "    .dataframe tbody tr th:only-of-type {\n",
       "        vertical-align: middle;\n",
       "    }\n",
       "\n",
       "    .dataframe tbody tr th {\n",
       "        vertical-align: top;\n",
       "    }\n",
       "\n",
       "    .dataframe thead th {\n",
       "        text-align: right;\n",
       "    }\n",
       "</style>\n",
       "<table border=\"1\" class=\"dataframe\">\n",
       "  <thead>\n",
       "    <tr style=\"text-align: right;\">\n",
       "      <th></th>\n",
       "      <th>top_trans_count_last_1_month</th>\n",
       "      <th>rank_trad_1_month</th>\n",
       "      <th>first_transaction_time</th>\n",
       "      <th>trans_fail_top_count_enum_last_1_month</th>\n",
       "      <th>trans_fail_top_count_enum_last_6_month</th>\n",
       "      <th>trans_fail_top_count_enum_last_12_month</th>\n",
       "      <th>max_consume_count_later_6_month</th>\n",
       "      <th>railway_consume_count_last_12_month</th>\n",
       "      <th>trans_day_last_12_month</th>\n",
       "      <th>query_org_count</th>\n",
       "      <th>...</th>\n",
       "      <th>loans_cash_count</th>\n",
       "      <th>latest_three_month_loan</th>\n",
       "      <th>latest_six_month_loan</th>\n",
       "      <th>history_fail_fee</th>\n",
       "      <th>loans_org_count_current</th>\n",
       "      <th>loans_product_count</th>\n",
       "      <th>consfin_org_count_current</th>\n",
       "      <th>consfin_product_count</th>\n",
       "      <th>latest_query_day</th>\n",
       "      <th>loans_latest_day</th>\n",
       "    </tr>\n",
       "  </thead>\n",
       "  <tbody>\n",
       "    <tr>\n",
       "      <th>0</th>\n",
       "      <td>0.15</td>\n",
       "      <td>0.40</td>\n",
       "      <td>20130817.0</td>\n",
       "      <td>1.0</td>\n",
       "      <td>2.0</td>\n",
       "      <td>2.0</td>\n",
       "      <td>6.0</td>\n",
       "      <td>0.0</td>\n",
       "      <td>85.0</td>\n",
       "      <td>8.0</td>\n",
       "      <td>...</td>\n",
       "      <td>9.0</td>\n",
       "      <td>1.0</td>\n",
       "      <td>13.0</td>\n",
       "      <td>7.0</td>\n",
       "      <td>9.0</td>\n",
       "      <td>10.0</td>\n",
       "      <td>1.0</td>\n",
       "      <td>2.0</td>\n",
       "      <td>12.0</td>\n",
       "      <td>18.0</td>\n",
       "    </tr>\n",
       "    <tr>\n",
       "      <th>1</th>\n",
       "      <td>0.05</td>\n",
       "      <td>0.35</td>\n",
       "      <td>20160402.0</td>\n",
       "      <td>0.0</td>\n",
       "      <td>3.0</td>\n",
       "      <td>3.0</td>\n",
       "      <td>9.0</td>\n",
       "      <td>0.0</td>\n",
       "      <td>84.0</td>\n",
       "      <td>7.0</td>\n",
       "      <td>...</td>\n",
       "      <td>12.0</td>\n",
       "      <td>2.0</td>\n",
       "      <td>8.0</td>\n",
       "      <td>4.0</td>\n",
       "      <td>12.0</td>\n",
       "      <td>12.0</td>\n",
       "      <td>5.0</td>\n",
       "      <td>6.0</td>\n",
       "      <td>4.0</td>\n",
       "      <td>2.0</td>\n",
       "    </tr>\n",
       "    <tr>\n",
       "      <th>2</th>\n",
       "      <td>0.65</td>\n",
       "      <td>1.00</td>\n",
       "      <td>20170617.0</td>\n",
       "      <td>3.0</td>\n",
       "      <td>6.0</td>\n",
       "      <td>6.0</td>\n",
       "      <td>3.0</td>\n",
       "      <td>0.0</td>\n",
       "      <td>95.0</td>\n",
       "      <td>11.0</td>\n",
       "      <td>...</td>\n",
       "      <td>2.0</td>\n",
       "      <td>2.0</td>\n",
       "      <td>4.0</td>\n",
       "      <td>2.0</td>\n",
       "      <td>2.0</td>\n",
       "      <td>2.0</td>\n",
       "      <td>1.0</td>\n",
       "      <td>1.0</td>\n",
       "      <td>2.0</td>\n",
       "      <td>6.0</td>\n",
       "    </tr>\n",
       "    <tr>\n",
       "      <th>3</th>\n",
       "      <td>0.05</td>\n",
       "      <td>0.15</td>\n",
       "      <td>20130516.0</td>\n",
       "      <td>1.0</td>\n",
       "      <td>8.0</td>\n",
       "      <td>8.0</td>\n",
       "      <td>9.0</td>\n",
       "      <td>0.0</td>\n",
       "      <td>82.0</td>\n",
       "      <td>12.0</td>\n",
       "      <td>...</td>\n",
       "      <td>17.0</td>\n",
       "      <td>4.0</td>\n",
       "      <td>34.0</td>\n",
       "      <td>26.0</td>\n",
       "      <td>17.0</td>\n",
       "      <td>18.0</td>\n",
       "      <td>5.0</td>\n",
       "      <td>5.0</td>\n",
       "      <td>2.0</td>\n",
       "      <td>4.0</td>\n",
       "    </tr>\n",
       "    <tr>\n",
       "      <th>4</th>\n",
       "      <td>1.00</td>\n",
       "      <td>0.65</td>\n",
       "      <td>20170312.0</td>\n",
       "      <td>3.0</td>\n",
       "      <td>3.0</td>\n",
       "      <td>3.0</td>\n",
       "      <td>3.0</td>\n",
       "      <td>0.0</td>\n",
       "      <td>88.0</td>\n",
       "      <td>11.0</td>\n",
       "      <td>...</td>\n",
       "      <td>10.0</td>\n",
       "      <td>0.0</td>\n",
       "      <td>10.0</td>\n",
       "      <td>25.0</td>\n",
       "      <td>10.0</td>\n",
       "      <td>10.0</td>\n",
       "      <td>2.0</td>\n",
       "      <td>2.0</td>\n",
       "      <td>22.0</td>\n",
       "      <td>120.0</td>\n",
       "    </tr>\n",
       "  </tbody>\n",
       "</table>\n",
       "<p>5 rows × 25 columns</p>\n",
       "</div>"
      ],
      "text/plain": [
       "   top_trans_count_last_1_month  rank_trad_1_month  first_transaction_time  \\\n",
       "0                          0.15               0.40              20130817.0   \n",
       "1                          0.05               0.35              20160402.0   \n",
       "2                          0.65               1.00              20170617.0   \n",
       "3                          0.05               0.15              20130516.0   \n",
       "4                          1.00               0.65              20170312.0   \n",
       "\n",
       "   trans_fail_top_count_enum_last_1_month  \\\n",
       "0                                     1.0   \n",
       "1                                     0.0   \n",
       "2                                     3.0   \n",
       "3                                     1.0   \n",
       "4                                     3.0   \n",
       "\n",
       "   trans_fail_top_count_enum_last_6_month  \\\n",
       "0                                     2.0   \n",
       "1                                     3.0   \n",
       "2                                     6.0   \n",
       "3                                     8.0   \n",
       "4                                     3.0   \n",
       "\n",
       "   trans_fail_top_count_enum_last_12_month  max_consume_count_later_6_month  \\\n",
       "0                                      2.0                              6.0   \n",
       "1                                      3.0                              9.0   \n",
       "2                                      6.0                              3.0   \n",
       "3                                      8.0                              9.0   \n",
       "4                                      3.0                              3.0   \n",
       "\n",
       "   railway_consume_count_last_12_month  trans_day_last_12_month  \\\n",
       "0                                  0.0                     85.0   \n",
       "1                                  0.0                     84.0   \n",
       "2                                  0.0                     95.0   \n",
       "3                                  0.0                     82.0   \n",
       "4                                  0.0                     88.0   \n",
       "\n",
       "   query_org_count  ...  loans_cash_count  latest_three_month_loan  \\\n",
       "0              8.0  ...               9.0                      1.0   \n",
       "1              7.0  ...              12.0                      2.0   \n",
       "2             11.0  ...               2.0                      2.0   \n",
       "3             12.0  ...              17.0                      4.0   \n",
       "4             11.0  ...              10.0                      0.0   \n",
       "\n",
       "   latest_six_month_loan  history_fail_fee  loans_org_count_current  \\\n",
       "0                   13.0               7.0                      9.0   \n",
       "1                    8.0               4.0                     12.0   \n",
       "2                    4.0               2.0                      2.0   \n",
       "3                   34.0              26.0                     17.0   \n",
       "4                   10.0              25.0                     10.0   \n",
       "\n",
       "   loans_product_count  consfin_org_count_current  consfin_product_count  \\\n",
       "0                 10.0                        1.0                    2.0   \n",
       "1                 12.0                        5.0                    6.0   \n",
       "2                  2.0                        1.0                    1.0   \n",
       "3                 18.0                        5.0                    5.0   \n",
       "4                 10.0                        2.0                    2.0   \n",
       "\n",
       "   latest_query_day  loans_latest_day  \n",
       "0              12.0              18.0  \n",
       "1               4.0               2.0  \n",
       "2               2.0               6.0  \n",
       "3               2.0               4.0  \n",
       "4              22.0             120.0  \n",
       "\n",
       "[5 rows x 25 columns]"
      ]
     },
     "execution_count": 26,
     "metadata": {},
     "output_type": "execute_result"
    }
   ],
   "source": [
    "train_x.head()"
   ]
  },
  {
   "cell_type": "code",
   "execution_count": 30,
   "metadata": {},
   "outputs": [],
   "source": [
    "pred_Y = tree.predict(Test_X)"
   ]
  },
  {
   "cell_type": "code",
   "execution_count": 33,
   "metadata": {},
   "outputs": [],
   "source": [
    "score = (pred_Y == Test_Y).sum()"
   ]
  },
  {
   "cell_type": "code",
   "execution_count": 35,
   "metadata": {},
   "outputs": [
    {
     "data": {
      "text/plain": [
       "1323"
      ]
     },
     "execution_count": 35,
     "metadata": {},
     "output_type": "execute_result"
    }
   ],
   "source": [
    "len(Test_Y)"
   ]
  },
  {
   "cell_type": "code",
   "execution_count": 36,
   "metadata": {},
   "outputs": [
    {
     "data": {
      "text/plain": [
       "0.6999244142101285"
      ]
     },
     "execution_count": 36,
     "metadata": {},
     "output_type": "execute_result"
    }
   ],
   "source": [
    "score / len(Test_Y)"
   ]
  },
  {
   "cell_type": "code",
   "execution_count": null,
   "metadata": {},
   "outputs": [],
   "source": []
  }
 ],
 "metadata": {
  "kernelspec": {
   "display_name": "Python 3",
   "language": "python",
   "name": "python3"
  },
  "language_info": {
   "codemirror_mode": {
    "name": "ipython",
    "version": 3
   },
   "file_extension": ".py",
   "mimetype": "text/x-python",
   "name": "python",
   "nbconvert_exporter": "python",
   "pygments_lexer": "ipython3",
   "version": "3.6.8"
  }
 },
 "nbformat": 4,
 "nbformat_minor": 2
}

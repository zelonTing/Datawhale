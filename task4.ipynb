{
 "cells": [
  {
   "cell_type": "code",
   "execution_count": 1,
   "metadata": {},
   "outputs": [],
   "source": [
    "import numpy as np\n",
    "import pandas as pd\n",
    "#import matplotlib.pyplot as plt\n",
    "from sklearn.tree import DecisionTreeClassifier\n"
   ]
  },
  {
   "cell_type": "code",
   "execution_count": 2,
   "metadata": {},
   "outputs": [],
   "source": [
    "data = pd.read_csv('/home/ting/datasets/DLCode/task2.csv')"
   ]
  },
  {
   "cell_type": "code",
   "execution_count": 3,
   "metadata": {},
   "outputs": [],
   "source": [
    "# IV \n"
   ]
  },
  {
   "cell_type": "code",
   "execution_count": 4,
   "metadata": {},
   "outputs": [],
   "source": [
    "cols = ['top_trans_count_last_1_month',\n",
    "       'rank_trad_1_month',\n",
    "       'first_transaction_time',\n",
    "       'trans_fail_top_count_enum_last_1_month',\n",
    "       'trans_fail_top_count_enum_last_6_month',\n",
    "       'trans_fail_top_count_enum_last_12_month',\n",
    "       'max_consume_count_later_6_month',\n",
    "       'railway_consume_count_last_12_month',\n",
    "       'trans_day_last_12_month',\n",
    "       'query_org_count',\n",
    "       'query_cash_count',\n",
    "       'loans_count',\n",
    "       'loans_overdue_count',\n",
    "       'loans_org_count_behavior',\n",
    "       'consfin_org_count_behavior',\n",
    "       'loans_cash_count',\n",
    "       'latest_three_month_loan',\n",
    "       'latest_six_month_loan',\n",
    "       'history_fail_fee',\n",
    "       'loans_org_count_current',\n",
    "       'loans_product_count',\n",
    "       'consfin_org_count_current',\n",
    "       'consfin_product_count',\n",
    "       'latest_query_day',\n",
    "       'loans_latest_day',\n",
    "       'status']\n",
    "train = data[cols]\n",
    "train = train.dropna()\n"
   ]
  },
  {
   "cell_type": "code",
   "execution_count": 5,
   "metadata": {},
   "outputs": [],
   "source": [
    "from sklearn.model_selection import train_test_split\n",
    "\n",
    "train_x = train.drop(['status'],axis = 1)\n",
    "train_y = train['status']\n",
    "Train_X,Test_X,Train_Y,Test_Y = train_test_split(train_x,train_y,test_size=0.3, random_state=0)"
   ]
  },
  {
   "cell_type": "code",
   "execution_count": 6,
   "metadata": {},
   "outputs": [
    {
     "name": "stdout",
     "output_type": "stream",
     "text": [
      "<class 'pandas.core.frame.DataFrame'>\n",
      "Int64Index: 4407 entries, 0 to 4753\n",
      "Data columns (total 25 columns):\n",
      "top_trans_count_last_1_month               4407 non-null float64\n",
      "rank_trad_1_month                          4407 non-null float64\n",
      "first_transaction_time                     4407 non-null float64\n",
      "trans_fail_top_count_enum_last_1_month     4407 non-null float64\n",
      "trans_fail_top_count_enum_last_6_month     4407 non-null float64\n",
      "trans_fail_top_count_enum_last_12_month    4407 non-null float64\n",
      "max_consume_count_later_6_month            4407 non-null float64\n",
      "railway_consume_count_last_12_month        4407 non-null float64\n",
      "trans_day_last_12_month                    4407 non-null float64\n",
      "query_org_count                            4407 non-null float64\n",
      "query_cash_count                           4407 non-null float64\n",
      "loans_count                                4407 non-null float64\n",
      "loans_overdue_count                        4407 non-null float64\n",
      "loans_org_count_behavior                   4407 non-null float64\n",
      "consfin_org_count_behavior                 4407 non-null float64\n",
      "loans_cash_count                           4407 non-null float64\n",
      "latest_three_month_loan                    4407 non-null float64\n",
      "latest_six_month_loan                      4407 non-null float64\n",
      "history_fail_fee                           4407 non-null float64\n",
      "loans_org_count_current                    4407 non-null float64\n",
      "loans_product_count                        4407 non-null float64\n",
      "consfin_org_count_current                  4407 non-null float64\n",
      "consfin_product_count                      4407 non-null float64\n",
      "latest_query_day                           4407 non-null float64\n",
      "loans_latest_day                           4407 non-null float64\n",
      "dtypes: float64(25)\n",
      "memory usage: 895.2 KB\n"
     ]
    }
   ],
   "source": [
    "train_x.info()"
   ]
  },
  {
   "cell_type": "code",
   "execution_count": 7,
   "metadata": {},
   "outputs": [],
   "source": [
    "tree = DecisionTreeClassifier().fit(Train_X,Train_Y)"
   ]
  },
  {
   "cell_type": "code",
   "execution_count": 8,
   "metadata": {},
   "outputs": [
    {
     "data": {
      "text/html": [
       "<div>\n",
       "<style scoped>\n",
       "    .dataframe tbody tr th:only-of-type {\n",
       "        vertical-align: middle;\n",
       "    }\n",
       "\n",
       "    .dataframe tbody tr th {\n",
       "        vertical-align: top;\n",
       "    }\n",
       "\n",
       "    .dataframe thead th {\n",
       "        text-align: right;\n",
       "    }\n",
       "</style>\n",
       "<table border=\"1\" class=\"dataframe\">\n",
       "  <thead>\n",
       "    <tr style=\"text-align: right;\">\n",
       "      <th></th>\n",
       "      <th>top_trans_count_last_1_month</th>\n",
       "      <th>rank_trad_1_month</th>\n",
       "      <th>first_transaction_time</th>\n",
       "      <th>trans_fail_top_count_enum_last_1_month</th>\n",
       "      <th>trans_fail_top_count_enum_last_6_month</th>\n",
       "      <th>trans_fail_top_count_enum_last_12_month</th>\n",
       "      <th>max_consume_count_later_6_month</th>\n",
       "      <th>railway_consume_count_last_12_month</th>\n",
       "      <th>trans_day_last_12_month</th>\n",
       "      <th>query_org_count</th>\n",
       "      <th>...</th>\n",
       "      <th>loans_cash_count</th>\n",
       "      <th>latest_three_month_loan</th>\n",
       "      <th>latest_six_month_loan</th>\n",
       "      <th>history_fail_fee</th>\n",
       "      <th>loans_org_count_current</th>\n",
       "      <th>loans_product_count</th>\n",
       "      <th>consfin_org_count_current</th>\n",
       "      <th>consfin_product_count</th>\n",
       "      <th>latest_query_day</th>\n",
       "      <th>loans_latest_day</th>\n",
       "    </tr>\n",
       "  </thead>\n",
       "  <tbody>\n",
       "    <tr>\n",
       "      <th>0</th>\n",
       "      <td>0.15</td>\n",
       "      <td>0.40</td>\n",
       "      <td>20130817.0</td>\n",
       "      <td>1.0</td>\n",
       "      <td>2.0</td>\n",
       "      <td>2.0</td>\n",
       "      <td>6.0</td>\n",
       "      <td>0.0</td>\n",
       "      <td>85.0</td>\n",
       "      <td>8.0</td>\n",
       "      <td>...</td>\n",
       "      <td>9.0</td>\n",
       "      <td>1.0</td>\n",
       "      <td>13.0</td>\n",
       "      <td>7.0</td>\n",
       "      <td>9.0</td>\n",
       "      <td>10.0</td>\n",
       "      <td>1.0</td>\n",
       "      <td>2.0</td>\n",
       "      <td>12.0</td>\n",
       "      <td>18.0</td>\n",
       "    </tr>\n",
       "    <tr>\n",
       "      <th>1</th>\n",
       "      <td>0.05</td>\n",
       "      <td>0.35</td>\n",
       "      <td>20160402.0</td>\n",
       "      <td>0.0</td>\n",
       "      <td>3.0</td>\n",
       "      <td>3.0</td>\n",
       "      <td>9.0</td>\n",
       "      <td>0.0</td>\n",
       "      <td>84.0</td>\n",
       "      <td>7.0</td>\n",
       "      <td>...</td>\n",
       "      <td>12.0</td>\n",
       "      <td>2.0</td>\n",
       "      <td>8.0</td>\n",
       "      <td>4.0</td>\n",
       "      <td>12.0</td>\n",
       "      <td>12.0</td>\n",
       "      <td>5.0</td>\n",
       "      <td>6.0</td>\n",
       "      <td>4.0</td>\n",
       "      <td>2.0</td>\n",
       "    </tr>\n",
       "    <tr>\n",
       "      <th>2</th>\n",
       "      <td>0.65</td>\n",
       "      <td>1.00</td>\n",
       "      <td>20170617.0</td>\n",
       "      <td>3.0</td>\n",
       "      <td>6.0</td>\n",
       "      <td>6.0</td>\n",
       "      <td>3.0</td>\n",
       "      <td>0.0</td>\n",
       "      <td>95.0</td>\n",
       "      <td>11.0</td>\n",
       "      <td>...</td>\n",
       "      <td>2.0</td>\n",
       "      <td>2.0</td>\n",
       "      <td>4.0</td>\n",
       "      <td>2.0</td>\n",
       "      <td>2.0</td>\n",
       "      <td>2.0</td>\n",
       "      <td>1.0</td>\n",
       "      <td>1.0</td>\n",
       "      <td>2.0</td>\n",
       "      <td>6.0</td>\n",
       "    </tr>\n",
       "    <tr>\n",
       "      <th>3</th>\n",
       "      <td>0.05</td>\n",
       "      <td>0.15</td>\n",
       "      <td>20130516.0</td>\n",
       "      <td>1.0</td>\n",
       "      <td>8.0</td>\n",
       "      <td>8.0</td>\n",
       "      <td>9.0</td>\n",
       "      <td>0.0</td>\n",
       "      <td>82.0</td>\n",
       "      <td>12.0</td>\n",
       "      <td>...</td>\n",
       "      <td>17.0</td>\n",
       "      <td>4.0</td>\n",
       "      <td>34.0</td>\n",
       "      <td>26.0</td>\n",
       "      <td>17.0</td>\n",
       "      <td>18.0</td>\n",
       "      <td>5.0</td>\n",
       "      <td>5.0</td>\n",
       "      <td>2.0</td>\n",
       "      <td>4.0</td>\n",
       "    </tr>\n",
       "    <tr>\n",
       "      <th>4</th>\n",
       "      <td>1.00</td>\n",
       "      <td>0.65</td>\n",
       "      <td>20170312.0</td>\n",
       "      <td>3.0</td>\n",
       "      <td>3.0</td>\n",
       "      <td>3.0</td>\n",
       "      <td>3.0</td>\n",
       "      <td>0.0</td>\n",
       "      <td>88.0</td>\n",
       "      <td>11.0</td>\n",
       "      <td>...</td>\n",
       "      <td>10.0</td>\n",
       "      <td>0.0</td>\n",
       "      <td>10.0</td>\n",
       "      <td>25.0</td>\n",
       "      <td>10.0</td>\n",
       "      <td>10.0</td>\n",
       "      <td>2.0</td>\n",
       "      <td>2.0</td>\n",
       "      <td>22.0</td>\n",
       "      <td>120.0</td>\n",
       "    </tr>\n",
       "  </tbody>\n",
       "</table>\n",
       "<p>5 rows × 25 columns</p>\n",
       "</div>"
      ],
      "text/plain": [
       "   top_trans_count_last_1_month  rank_trad_1_month  first_transaction_time  \\\n",
       "0                          0.15               0.40              20130817.0   \n",
       "1                          0.05               0.35              20160402.0   \n",
       "2                          0.65               1.00              20170617.0   \n",
       "3                          0.05               0.15              20130516.0   \n",
       "4                          1.00               0.65              20170312.0   \n",
       "\n",
       "   trans_fail_top_count_enum_last_1_month  \\\n",
       "0                                     1.0   \n",
       "1                                     0.0   \n",
       "2                                     3.0   \n",
       "3                                     1.0   \n",
       "4                                     3.0   \n",
       "\n",
       "   trans_fail_top_count_enum_last_6_month  \\\n",
       "0                                     2.0   \n",
       "1                                     3.0   \n",
       "2                                     6.0   \n",
       "3                                     8.0   \n",
       "4                                     3.0   \n",
       "\n",
       "   trans_fail_top_count_enum_last_12_month  max_consume_count_later_6_month  \\\n",
       "0                                      2.0                              6.0   \n",
       "1                                      3.0                              9.0   \n",
       "2                                      6.0                              3.0   \n",
       "3                                      8.0                              9.0   \n",
       "4                                      3.0                              3.0   \n",
       "\n",
       "   railway_consume_count_last_12_month  trans_day_last_12_month  \\\n",
       "0                                  0.0                     85.0   \n",
       "1                                  0.0                     84.0   \n",
       "2                                  0.0                     95.0   \n",
       "3                                  0.0                     82.0   \n",
       "4                                  0.0                     88.0   \n",
       "\n",
       "   query_org_count  ...  loans_cash_count  latest_three_month_loan  \\\n",
       "0              8.0  ...               9.0                      1.0   \n",
       "1              7.0  ...              12.0                      2.0   \n",
       "2             11.0  ...               2.0                      2.0   \n",
       "3             12.0  ...              17.0                      4.0   \n",
       "4             11.0  ...              10.0                      0.0   \n",
       "\n",
       "   latest_six_month_loan  history_fail_fee  loans_org_count_current  \\\n",
       "0                   13.0               7.0                      9.0   \n",
       "1                    8.0               4.0                     12.0   \n",
       "2                    4.0               2.0                      2.0   \n",
       "3                   34.0              26.0                     17.0   \n",
       "4                   10.0              25.0                     10.0   \n",
       "\n",
       "   loans_product_count  consfin_org_count_current  consfin_product_count  \\\n",
       "0                 10.0                        1.0                    2.0   \n",
       "1                 12.0                        5.0                    6.0   \n",
       "2                  2.0                        1.0                    1.0   \n",
       "3                 18.0                        5.0                    5.0   \n",
       "4                 10.0                        2.0                    2.0   \n",
       "\n",
       "   latest_query_day  loans_latest_day  \n",
       "0              12.0              18.0  \n",
       "1               4.0               2.0  \n",
       "2               2.0               6.0  \n",
       "3               2.0               4.0  \n",
       "4              22.0             120.0  \n",
       "\n",
       "[5 rows x 25 columns]"
      ]
     },
     "execution_count": 8,
     "metadata": {},
     "output_type": "execute_result"
    }
   ],
   "source": [
    "train_x.head()"
   ]
  },
  {
   "cell_type": "code",
   "execution_count": 9,
   "metadata": {},
   "outputs": [],
   "source": [
    "pred_Y = tree.predict(Test_X)"
   ]
  },
  {
   "cell_type": "code",
   "execution_count": 10,
   "metadata": {},
   "outputs": [],
   "source": [
    "score = (pred_Y == Test_Y).sum()"
   ]
  },
  {
   "cell_type": "code",
   "execution_count": 11,
   "metadata": {},
   "outputs": [
    {
     "data": {
      "text/plain": [
       "1323"
      ]
     },
     "execution_count": 11,
     "metadata": {},
     "output_type": "execute_result"
    }
   ],
   "source": [
    "len(Test_Y)"
   ]
  },
  {
   "cell_type": "code",
   "execution_count": 12,
   "metadata": {},
   "outputs": [
    {
     "data": {
      "text/plain": [
       "0.7014361300075586"
      ]
     },
     "execution_count": 12,
     "metadata": {},
     "output_type": "execute_result"
    }
   ],
   "source": [
    "score / len(Test_Y)"
   ]
  },
  {
   "cell_type": "code",
   "execution_count": 16,
   "metadata": {},
   "outputs": [],
   "source": [
    "#逻辑回归,SVM和决策树;随机森林和XGBoost进行模型构建,评分方式任意.(不需要考虑模型调参)\n",
    "#import numpy as np\n",
    "#import pandas as pd\n",
    "from sklearn.svm import SVC\n",
    "from sklearn.tree import DecisionTreeClassifier\n",
    "from sklearn.linear_model import LogisticRegressionCV\n",
    "from sklearn.neighbors import KNeighborsClassifier\n",
    "from sklearn.ensemble import RandomForestClassifier,GradientBoostingClassifier\n",
    "from xgboost import XGBClassifier"
   ]
  },
  {
   "cell_type": "code",
   "execution_count": 17,
   "metadata": {},
   "outputs": [
    {
     "ename": "NameError",
     "evalue": "name 'LogisticRegression' is not defined",
     "output_type": "error",
     "traceback": [
      "\u001b[0;31m---------------------------------------------------------------------------\u001b[0m",
      "\u001b[0;31mNameError\u001b[0m                                 Traceback (most recent call last)",
      "\u001b[0;32m<ipython-input-17-bef6c31ca0d3>\u001b[0m in \u001b[0;36m<module>\u001b[0;34m\u001b[0m\n\u001b[0;32m----> 1\u001b[0;31m \u001b[0mlr_model\u001b[0m \u001b[0;34m=\u001b[0m \u001b[0mLogisticRegression\u001b[0m\u001b[0;34m(\u001b[0m\u001b[0;34m)\u001b[0m\u001b[0;34m\u001b[0m\u001b[0;34m\u001b[0m\u001b[0m\n\u001b[0m\u001b[1;32m      2\u001b[0m \u001b[0msvm_model\u001b[0m \u001b[0;34m=\u001b[0m \u001b[0mSVC\u001b[0m\u001b[0;34m(\u001b[0m\u001b[0mprobability\u001b[0m\u001b[0;34m=\u001b[0m\u001b[0;32mTrue\u001b[0m\u001b[0;34m)\u001b[0m\u001b[0;34m\u001b[0m\u001b[0;34m\u001b[0m\u001b[0m\n\u001b[1;32m      3\u001b[0m \u001b[0mdt_model\u001b[0m \u001b[0;34m=\u001b[0m \u001b[0mDecisionTreeClassifier\u001b[0m\u001b[0;34m(\u001b[0m\u001b[0;34m)\u001b[0m\u001b[0;34m\u001b[0m\u001b[0;34m\u001b[0m\u001b[0m\n\u001b[1;32m      4\u001b[0m \u001b[0mxgb_model\u001b[0m \u001b[0;34m=\u001b[0m \u001b[0mXGBClassifier\u001b[0m\u001b[0;34m(\u001b[0m\u001b[0;34m)\u001b[0m\u001b[0;34m\u001b[0m\u001b[0;34m\u001b[0m\u001b[0m\n\u001b[1;32m      5\u001b[0m \u001b[0mknn_model\u001b[0m\u001b[0;34m=\u001b[0m\u001b[0mKNeighborsClassifier\u001b[0m\u001b[0;34m(\u001b[0m\u001b[0;34m)\u001b[0m\u001b[0;34m\u001b[0m\u001b[0;34m\u001b[0m\u001b[0m\n",
      "\u001b[0;31mNameError\u001b[0m: name 'LogisticRegression' is not defined"
     ]
    }
   ],
   "source": [
    "lr_model = LogisticRegression()\n",
    "svm_model = SVC(probability=True)\n",
    "dt_model = DecisionTreeClassifier()\n",
    "xgb_model = XGBClassifier()\n",
    "knn_model=KNeighborsClassifier()\n",
    "gbdt_model=GradientBoostingClassifier(n_estimators=100)\n",
    "rf_model=RandomForestClassifier(n_estimators=100)"
   ]
  },
  {
   "cell_type": "code",
   "execution_count": null,
   "metadata": {},
   "outputs": [],
   "source": [
    "models={'lr_model':lr_model,\n",
    "        'svm_model':svm_model,\n",
    "        'knn_model':knn_model,\n",
    "        'decision_tree':dt_model,\n",
    "        'xgboost':xgb_model,\n",
    "        'gbt':gbdt_model,\n",
    "        'random forest':rf_model}"
   ]
  },
  {
   "cell_type": "code",
   "execution_count": null,
   "metadata": {},
   "outputs": [],
   "source": [
    "result=pd.DataFrame(columns=['model',\n",
    "                             'accuracy',\n",
    "                             'precision',\n",
    "                             'recall',\n",
    "                             'f1_score',\n",
    "                             'roc_auc_score'])"
   ]
  },
  {
   "cell_type": "code",
   "execution_count": null,
   "metadata": {},
   "outputs": [],
   "source": [
    "from sklearn.metrics import accuracy_score,f1_score,precision_score,recall_score,roc_auc_score,roc_curve\n",
    "def eval(pred_y,test_y):\n",
    "    acc=accuracy_score(test_y,pred_y)\n",
    "    p=precision_score(test_y,pred_y)\n",
    "    r=recall_score(test_y,pred_y)\n",
    "    f1=f1_score(test_y,pred_y)\n",
    "\n",
    "    return acc,p,r,f1"
   ]
  },
  {
   "cell_type": "code",
   "execution_count": null,
   "metadata": {},
   "outputs": [],
   "source": [
    "i=0  \n",
    "for name,model in models.items():\n",
    "    model.fit(Train_X,Train_Y)\n",
    "    pred_Y=model.predict(Test_X)\n",
    "    prob_Y=model.predict_proba(Test_X)[:,1]\n",
    "    acc,p,r,f1=evaluate(pred_Y,Test_X)\n",
    "    auc=roc_auc_score(Test_X,prob_Y)\n",
    "    df_result.loc[row]=[name,acc,p,r,f1,auc]\n",
    "    i+=1\n",
    "    \n",
    "df_result"
   ]
  },
  {
   "cell_type": "code",
   "execution_count": null,
   "metadata": {},
   "outputs": [],
   "source": [
    "from sklearn.metrics import classification_report, accuracy_score, roc_curve\n",
    "import matplotlib as mpl\n",
    "import matplotlib.pyplot as plt"
   ]
  },
  {
   "cell_type": "code",
   "execution_count": null,
   "metadata": {},
   "outputs": [],
   "source": [
    "from sklearn.preprocessing import StandardScaler\n",
    "sc = StandardScaler()\n",
    "x_train_sel_sc = sc.fit_transform(x_train_sel)\n",
    "x_test_sel_sc = sc.fit_transform(x_test_sel)"
   ]
  },
  {
   "cell_type": "code",
   "execution_count": null,
   "metadata": {},
   "outputs": [],
   "source": [
    "from sklearn.linear_model import LogisticRegression\n",
    "lr = LogisticRegression()\n",
    "lr.fit(x_train_sel_sc, y_train)\n",
    "y_pre_lr = lr.predict(x_test_sel_sc)\n",
    "display(accuracy_score(y_pre_lr, y_test))\n",
    "print(classification_report(y_pre_lr, y_test))"
   ]
  },
  {
   "cell_type": "code",
   "execution_count": null,
   "metadata": {},
   "outputs": [],
   "source": []
  },
  {
   "cell_type": "code",
   "execution_count": null,
   "metadata": {},
   "outputs": [],
   "source": [
    "from sklearn.svm import SVC\n",
    "svc = SVC()\n",
    "svc.fit(x_train_sel_sc, y_train)\n",
    "y_pre_svc = svc.predict(x_test_sel_sc)\n",
    "display(accuracy_score(y_pre_svc, y_test))\n",
    "print(classification_report(y_pre_svc, y_test))"
   ]
  },
  {
   "cell_type": "code",
   "execution_count": null,
   "metadata": {},
   "outputs": [],
   "source": []
  },
  {
   "cell_type": "code",
   "execution_count": null,
   "metadata": {},
   "outputs": [],
   "source": [
    "from sklearn.tree import DecisionTreeClassifier\n",
    "dtc = DecisionTreeClassifier()\n",
    "dtc.fit(x_train_sel_sc, y_train)\n",
    "y_pre_dtc = dtc.predict(x_test_sel_sc)\n",
    "display(accuracy_score(y_pre_dtc, y_test))\n",
    "print(classification_report(y_pre_dtc, y_test))"
   ]
  },
  {
   "cell_type": "code",
   "execution_count": null,
   "metadata": {},
   "outputs": [],
   "source": [
    "rf = RandomForestClassifier()\n",
    "rf.fit(x_train_sel_sc, y_train)\n",
    "y_pre_rf = dtc.predict(x_test_sel_sc)\n",
    "display(accuracy_score(y_pre_rf, y_test))\n",
    "print(classification_report(y_pre_rf, y_test))"
   ]
  },
  {
   "cell_type": "code",
   "execution_count": null,
   "metadata": {},
   "outputs": [],
   "source": []
  }
 ],
 "metadata": {
  "kernelspec": {
   "display_name": "Python 3",
   "language": "python",
   "name": "python3"
  },
  "language_info": {
   "codemirror_mode": {
    "name": "ipython",
    "version": 3
   },
   "file_extension": ".py",
   "mimetype": "text/x-python",
   "name": "python",
   "nbconvert_exporter": "python",
   "pygments_lexer": "ipython3",
   "version": "3.6.8"
  }
 },
 "nbformat": 4,
 "nbformat_minor": 2
}
